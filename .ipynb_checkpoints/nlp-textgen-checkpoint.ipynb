{
 "cells": [
  {
   "cell_type": "code",
   "execution_count": null,
   "id": "initial_id",
   "metadata": {
    "ExecuteTime": {
     "end_time": "2024-01-02T04:42:45.810642Z",
     "start_time": "2024-01-02T04:42:35.456716Z"
    }
   },
   "outputs": [
    {
     "name": "stdout",
     "output_type": "stream",
     "text": [
      "64 50 0.001 10\n"
     ]
    }
   ],
   "source": [
    "import torch\n",
    "import torch.nn as nn\n",
    "import torch.optim as optim\n",
    "import torch.nn.functional as F\n",
    "from torch.utils.data import Dataset, DataLoader\n",
    "import string\n",
    "import urllib.request\n",
    "\n",
    "# Download Shakespeare dataset\n",
    "url = \"https://raw.githubusercontent.com/karpathy/char-rnn/master/data/tinyshakespeare/input.txt\"\n",
    "urllib.request.urlretrieve(url, 'shakespeare.txt')\n",
    "\n",
    "# Define the Shakespeare dataset\n",
    "class ShakespeareDataset(Dataset):\n",
    "    def __init__(self, file_path, seq_length=50):\n",
    "        self.seq_length = seq_length\n",
    "        self.chars = list(string.printable)\n",
    "        self.char_to_idx = {ch: i for i, ch in enumerate(self.chars)}\n",
    "        self.idx_to_char = {i: ch for i, ch in enumerate(self.chars)}\n",
    "        self.text = self.load_text(file_path)\n",
    "\n",
    "    def load_text(self, file_path):\n",
    "        with open(file_path, 'r') as f:\n",
    "            text = f.read()\n",
    "        return text\n",
    "\n",
    "    def __len__(self):\n",
    "        return len(self.text) - self.seq_length\n",
    "\n",
    "    def __getitem__(self, idx):\n",
    "        input_seq = self.text[idx:idx+self.seq_length]\n",
    "        target = self.text[idx+self.seq_length]\n",
    "        return torch.tensor([self.char_to_idx[ch] for ch in input_seq]), self.char_to_idx[target]\n",
    "\n",
    "# Define the Transformer model\n",
    "class Transformer(nn.Module):\n",
    "    def __init__(self, vocab_size, d_model=256, nhead=8, num_layers=6):\n",
    "        super(Transformer, self).__init__()\n",
    "        self.embedding = nn.Embedding(vocab_size, d_model)\n",
    "        self.transformer_layers = nn.ModuleList([\n",
    "            nn.TransformerEncoderLayer(d_model, nhead) for _ in range(num_layers)\n",
    "        ])\n",
    "        self.fc = nn.Linear(d_model, vocab_size)\n",
    "\n",
    "    def forward(self, x):\n",
    "        x = self.embedding(x)\n",
    "        x = x.permute(1, 0, 2)  # Change the sequence length dimension\n",
    "        for layer in self.transformer_layers:\n",
    "            x = layer(x)\n",
    "        x = self.fc(x[-1, :, :])  # Only using the output from the last position\n",
    "        return x\n",
    "\n",
    "# Training parameters\n",
    "batch_size = 64\n",
    "seq_length = 50\n",
    "lr = 0.001\n",
    "epochs = 10\n",
    "\n",
    "print(batch_size, seq_length, lr, epochs)\n",
    "\n",
    "# Load and preprocess the Shakespeare dataset\n",
    "dataset = ShakespeareDataset('shakespeare.txt', seq_length)\n",
    "dataloader = DataLoader(dataset, batch_size=batch_size, shuffle=True)\n",
    "\n",
    "# Initialize the model, criterion, and optimizer\n",
    "model = Transformer(vocab_size=len(dataset.chars))\n",
    "criterion = nn.CrossEntropyLoss()\n",
    "optimizer = optim.Adam(model.parameters(), lr=lr)\n",
    "\n",
    "# Training loop\n",
    "for epoch in range(epochs):\n",
    "    for batch_inputs, batch_targets in dataloader:\n",
    "        optimizer.zero_grad()\n",
    "        output = model(batch_inputs)\n",
    "        loss = criterion(output, batch_targets)\n",
    "        loss.backward()\n",
    "        optimizer.step()\n",
    "\n",
    "        print(f'Epoch {epoch+1}/{epochs}, Loss: {loss.item()}')\n",
    "\n",
    "# Generate text using the trained model\n",
    "def generate_text(start_text, length=200, temperature=0.8):\n",
    "    model.eval()\n",
    "    with torch.no_grad():\n",
    "        input_seq = torch.tensor([dataset.char_to_idx[ch] for ch in start_text])\n",
    "        for _ in range(length):\n",
    "            output = model(input_seq.unsqueeze(0))\n",
    "            probabilities = F.softmax(output.squeeze() / temperature, dim=0)\n",
    "            predicted_idx = torch.multinomial(probabilities, 1).item()\n",
    "            input_seq = torch.cat((input_seq[1:], torch.tensor([predicted_idx])))\n",
    "            print(dataset.idx_to_char[predicted_idx], end='')\n",
    "\n",
    "# Generate text with a starting prompt\n",
    "generate_text(\"The sun\", length=300)\n"
   ]
  },
  {
   "cell_type": "code",
   "execution_count": null,
   "id": "3b7e8de0931a710d",
   "metadata": {
    "ExecuteTime": {
     "end_time": "2024-01-02T04:42:45.810851Z",
     "start_time": "2024-01-02T04:42:45.810798Z"
    },
    "collapsed": false,
    "jupyter": {
     "outputs_hidden": false
    }
   },
   "outputs": [],
   "source": []
  }
 ],
 "metadata": {
  "kernelspec": {
   "display_name": "Python 3 (ipykernel)",
   "language": "python",
   "name": "python3"
  },
  "language_info": {
   "codemirror_mode": {
    "name": "ipython",
    "version": 3
   },
   "file_extension": ".py",
   "mimetype": "text/x-python",
   "name": "python",
   "nbconvert_exporter": "python",
   "pygments_lexer": "ipython3",
   "version": "3.9.6"
  }
 },
 "nbformat": 4,
 "nbformat_minor": 5
}
